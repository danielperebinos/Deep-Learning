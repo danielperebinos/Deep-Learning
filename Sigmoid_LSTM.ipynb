{
  "nbformat": 4,
  "nbformat_minor": 0,
  "metadata": {
    "colab": {
      "name": "LSTM.ipynb",
      "provenance": [],
      "collapsed_sections": [],
      "authorship_tag": "ABX9TyPsL0HBsC5f3lO3aHlnpPoJ",
      "include_colab_link": true
    },
    "kernelspec": {
      "name": "python3",
      "display_name": "Python 3"
    },
    "language_info": {
      "name": "python"
    },
    "accelerator": "GPU"
  },
  "cells": [
    {
      "cell_type": "markdown",
      "metadata": {
        "id": "view-in-github",
        "colab_type": "text"
      },
      "source": [
        "<a href=\"https://colab.research.google.com/github/danielperebinos/Deep-Learning/blob/main/Sigmoid_LSTM.ipynb\" target=\"_parent\"><img src=\"https://colab.research.google.com/assets/colab-badge.svg\" alt=\"Open In Colab\"/></a>"
      ]
    },
    {
      "cell_type": "code",
      "execution_count": null,
      "metadata": {
        "colab": {
          "base_uri": "https://localhost:8080/"
        },
        "id": "yIbLJvgsh2_b",
        "outputId": "f1c9be70-4cfc-4173-8f2d-7c50804b609a"
      },
      "outputs": [
        {
          "output_type": "stream",
          "name": "stdout",
          "text": [
            "Mounted at drive\n"
          ]
        }
      ],
      "source": [
        "from google.colab import drive\n",
        "\n",
        "drive.mount('drive')"
      ]
    },
    {
      "cell_type": "code",
      "source": [
        "!mkdir -p ~/.kaggle\n",
        "!cp drive/MyDrive/Datasets/kaggle.json ~/.kaggle\n",
        "!chmod 600 ~/.kaggle/kaggle.json\n",
        "!kaggle datasets download --unzip lorencpetr/chatbot-intent-classification"
      ],
      "metadata": {
        "colab": {
          "base_uri": "https://localhost:8080/"
        },
        "id": "NcyrRPhmh_g9",
        "outputId": "3c915a6a-8e9b-4a29-d5d0-e965bae36059"
      },
      "execution_count": null,
      "outputs": [
        {
          "output_type": "stream",
          "name": "stdout",
          "text": [
            "Downloading chatbot-intent-classification.zip to /content\n",
            "\r  0% 0.00/11.5k [00:00<?, ?B/s]\n",
            "\r100% 11.5k/11.5k [00:00<00:00, 8.08MB/s]\n"
          ]
        }
      ]
    },
    {
      "cell_type": "code",
      "source": [
        "import json\n",
        "\n",
        "import torch\n",
        "from torchtext.data.utils import get_tokenizer\n",
        "from torch.utils.data import DataLoader\n",
        "from torch import nn\n",
        "from torchtext.vocab import GloVe\n",
        "torch.manual_seed(42)\n",
        "\n",
        "import pandas as pd\n",
        "import matplotlib.pyplot as plt\n",
        "import seaborn as sns\n",
        "from sklearn.metrics import confusion_matrix, plot_confusion_matrix\n",
        "\n",
        "import copy"
      ],
      "metadata": {
        "id": "xc8ZUqFliHG1"
      },
      "execution_count": null,
      "outputs": []
    },
    {
      "cell_type": "code",
      "source": [
        "with open('intent-corpus-basic.json') as f:\n",
        "  DATA = json.load(f)['sentences']"
      ],
      "metadata": {
        "id": "qPjRuZW9j-pl"
      },
      "execution_count": null,
      "outputs": []
    },
    {
      "cell_type": "code",
      "source": [
        "tokenizer = get_tokenizer('basic_english')"
      ],
      "metadata": {
        "id": "j4Xp68v52gs_"
      },
      "execution_count": null,
      "outputs": []
    },
    {
      "cell_type": "code",
      "source": [
        "MAX_LENGTH = 0\n",
        "\n",
        "df_train, df_test = pd.DataFrame(), pd.DataFrame()\n",
        "train_text, test_text = [], []\n",
        "train_intent, test_intent = [], []\n",
        "\n",
        "for sentence in DATA:\n",
        "  tokens = tokenizer(sentence['text'])\n",
        "  MAX_LENGTH = max(MAX_LENGTH, len(tokens))\n",
        "\n",
        "  if not sentence['training']:\n",
        "    train_text.append(tokens)\n",
        "    train_intent.append(sentence['intent'])\n",
        "  else:\n",
        "    test_text.append(tokens)\n",
        "    test_intent.append(sentence['intent'])\n",
        "\n",
        "df_train['text'] = train_text\n",
        "df_train['intent'] = train_intent\n",
        "\n",
        "df_test['text'] = test_text\n",
        "df_test['intent'] = test_intent"
      ],
      "metadata": {
        "id": "YNRlpB2U2hvq"
      },
      "execution_count": null,
      "outputs": []
    },
    {
      "cell_type": "code",
      "source": [
        "df_train"
      ],
      "metadata": {
        "colab": {
          "base_uri": "https://localhost:8080/",
          "height": 424
        },
        "id": "OTLHQjd525rw",
        "outputId": "348f1c7f-1cc6-463a-b106-03b9c621174b"
      },
      "execution_count": null,
      "outputs": [
        {
          "output_type": "execute_result",
          "data": {
            "text/plain": [
              "                         text      intent\n",
              "0                       [yes]     yesNode\n",
              "1                       [yea]     yesNode\n",
              "2                        [ok]     yesNode\n",
              "3                   [oh, yes]     yesNode\n",
              "4                       [yea]     yesNode\n",
              "..                        ...         ...\n",
              "984        [are, you, asleep]  stillThere\n",
              "985  [have, you, turned, off]  stillThere\n",
              "986      [have, you, stopped]  stillThere\n",
              "987          [did, you, stop]  stillThere\n",
              "988          [did, you, quit]  stillThere\n",
              "\n",
              "[989 rows x 2 columns]"
            ],
            "text/html": [
              "\n",
              "  <div id=\"df-ab336a14-222a-4356-b603-49919d3d01c6\">\n",
              "    <div class=\"colab-df-container\">\n",
              "      <div>\n",
              "<style scoped>\n",
              "    .dataframe tbody tr th:only-of-type {\n",
              "        vertical-align: middle;\n",
              "    }\n",
              "\n",
              "    .dataframe tbody tr th {\n",
              "        vertical-align: top;\n",
              "    }\n",
              "\n",
              "    .dataframe thead th {\n",
              "        text-align: right;\n",
              "    }\n",
              "</style>\n",
              "<table border=\"1\" class=\"dataframe\">\n",
              "  <thead>\n",
              "    <tr style=\"text-align: right;\">\n",
              "      <th></th>\n",
              "      <th>text</th>\n",
              "      <th>intent</th>\n",
              "    </tr>\n",
              "  </thead>\n",
              "  <tbody>\n",
              "    <tr>\n",
              "      <th>0</th>\n",
              "      <td>[yes]</td>\n",
              "      <td>yesNode</td>\n",
              "    </tr>\n",
              "    <tr>\n",
              "      <th>1</th>\n",
              "      <td>[yea]</td>\n",
              "      <td>yesNode</td>\n",
              "    </tr>\n",
              "    <tr>\n",
              "      <th>2</th>\n",
              "      <td>[ok]</td>\n",
              "      <td>yesNode</td>\n",
              "    </tr>\n",
              "    <tr>\n",
              "      <th>3</th>\n",
              "      <td>[oh, yes]</td>\n",
              "      <td>yesNode</td>\n",
              "    </tr>\n",
              "    <tr>\n",
              "      <th>4</th>\n",
              "      <td>[yea]</td>\n",
              "      <td>yesNode</td>\n",
              "    </tr>\n",
              "    <tr>\n",
              "      <th>...</th>\n",
              "      <td>...</td>\n",
              "      <td>...</td>\n",
              "    </tr>\n",
              "    <tr>\n",
              "      <th>984</th>\n",
              "      <td>[are, you, asleep]</td>\n",
              "      <td>stillThere</td>\n",
              "    </tr>\n",
              "    <tr>\n",
              "      <th>985</th>\n",
              "      <td>[have, you, turned, off]</td>\n",
              "      <td>stillThere</td>\n",
              "    </tr>\n",
              "    <tr>\n",
              "      <th>986</th>\n",
              "      <td>[have, you, stopped]</td>\n",
              "      <td>stillThere</td>\n",
              "    </tr>\n",
              "    <tr>\n",
              "      <th>987</th>\n",
              "      <td>[did, you, stop]</td>\n",
              "      <td>stillThere</td>\n",
              "    </tr>\n",
              "    <tr>\n",
              "      <th>988</th>\n",
              "      <td>[did, you, quit]</td>\n",
              "      <td>stillThere</td>\n",
              "    </tr>\n",
              "  </tbody>\n",
              "</table>\n",
              "<p>989 rows × 2 columns</p>\n",
              "</div>\n",
              "      <button class=\"colab-df-convert\" onclick=\"convertToInteractive('df-ab336a14-222a-4356-b603-49919d3d01c6')\"\n",
              "              title=\"Convert this dataframe to an interactive table.\"\n",
              "              style=\"display:none;\">\n",
              "        \n",
              "  <svg xmlns=\"http://www.w3.org/2000/svg\" height=\"24px\"viewBox=\"0 0 24 24\"\n",
              "       width=\"24px\">\n",
              "    <path d=\"M0 0h24v24H0V0z\" fill=\"none\"/>\n",
              "    <path d=\"M18.56 5.44l.94 2.06.94-2.06 2.06-.94-2.06-.94-.94-2.06-.94 2.06-2.06.94zm-11 1L8.5 8.5l.94-2.06 2.06-.94-2.06-.94L8.5 2.5l-.94 2.06-2.06.94zm10 10l.94 2.06.94-2.06 2.06-.94-2.06-.94-.94-2.06-.94 2.06-2.06.94z\"/><path d=\"M17.41 7.96l-1.37-1.37c-.4-.4-.92-.59-1.43-.59-.52 0-1.04.2-1.43.59L10.3 9.45l-7.72 7.72c-.78.78-.78 2.05 0 2.83L4 21.41c.39.39.9.59 1.41.59.51 0 1.02-.2 1.41-.59l7.78-7.78 2.81-2.81c.8-.78.8-2.07 0-2.86zM5.41 20L4 18.59l7.72-7.72 1.47 1.35L5.41 20z\"/>\n",
              "  </svg>\n",
              "      </button>\n",
              "      \n",
              "  <style>\n",
              "    .colab-df-container {\n",
              "      display:flex;\n",
              "      flex-wrap:wrap;\n",
              "      gap: 12px;\n",
              "    }\n",
              "\n",
              "    .colab-df-convert {\n",
              "      background-color: #E8F0FE;\n",
              "      border: none;\n",
              "      border-radius: 50%;\n",
              "      cursor: pointer;\n",
              "      display: none;\n",
              "      fill: #1967D2;\n",
              "      height: 32px;\n",
              "      padding: 0 0 0 0;\n",
              "      width: 32px;\n",
              "    }\n",
              "\n",
              "    .colab-df-convert:hover {\n",
              "      background-color: #E2EBFA;\n",
              "      box-shadow: 0px 1px 2px rgba(60, 64, 67, 0.3), 0px 1px 3px 1px rgba(60, 64, 67, 0.15);\n",
              "      fill: #174EA6;\n",
              "    }\n",
              "\n",
              "    [theme=dark] .colab-df-convert {\n",
              "      background-color: #3B4455;\n",
              "      fill: #D2E3FC;\n",
              "    }\n",
              "\n",
              "    [theme=dark] .colab-df-convert:hover {\n",
              "      background-color: #434B5C;\n",
              "      box-shadow: 0px 1px 3px 1px rgba(0, 0, 0, 0.15);\n",
              "      filter: drop-shadow(0px 1px 2px rgba(0, 0, 0, 0.3));\n",
              "      fill: #FFFFFF;\n",
              "    }\n",
              "  </style>\n",
              "\n",
              "      <script>\n",
              "        const buttonEl =\n",
              "          document.querySelector('#df-ab336a14-222a-4356-b603-49919d3d01c6 button.colab-df-convert');\n",
              "        buttonEl.style.display =\n",
              "          google.colab.kernel.accessAllowed ? 'block' : 'none';\n",
              "\n",
              "        async function convertToInteractive(key) {\n",
              "          const element = document.querySelector('#df-ab336a14-222a-4356-b603-49919d3d01c6');\n",
              "          const dataTable =\n",
              "            await google.colab.kernel.invokeFunction('convertToInteractive',\n",
              "                                                     [key], {});\n",
              "          if (!dataTable) return;\n",
              "\n",
              "          const docLinkHtml = 'Like what you see? Visit the ' +\n",
              "            '<a target=\"_blank\" href=https://colab.research.google.com/notebooks/data_table.ipynb>data table notebook</a>'\n",
              "            + ' to learn more about interactive tables.';\n",
              "          element.innerHTML = '';\n",
              "          dataTable['output_type'] = 'display_data';\n",
              "          await google.colab.output.renderOutput(dataTable, element);\n",
              "          const docLink = document.createElement('div');\n",
              "          docLink.innerHTML = docLinkHtml;\n",
              "          element.appendChild(docLink);\n",
              "        }\n",
              "      </script>\n",
              "    </div>\n",
              "  </div>\n",
              "  "
            ]
          },
          "metadata": {},
          "execution_count": 7
        }
      ]
    },
    {
      "cell_type": "code",
      "source": [
        "df_train.text"
      ],
      "metadata": {
        "colab": {
          "base_uri": "https://localhost:8080/"
        },
        "id": "KT4q7_h44Wph",
        "outputId": "2307a7f2-fb77-48a8-bdcf-ea4e2ae64e8b"
      },
      "execution_count": null,
      "outputs": [
        {
          "output_type": "execute_result",
          "data": {
            "text/plain": [
              "0                         [yes]\n",
              "1                         [yea]\n",
              "2                          [ok]\n",
              "3                     [oh, yes]\n",
              "4                         [yea]\n",
              "                 ...           \n",
              "984          [are, you, asleep]\n",
              "985    [have, you, turned, off]\n",
              "986        [have, you, stopped]\n",
              "987            [did, you, stop]\n",
              "988            [did, you, quit]\n",
              "Name: text, Length: 989, dtype: object"
            ]
          },
          "metadata": {},
          "execution_count": 8
        }
      ]
    },
    {
      "cell_type": "code",
      "source": [
        "intent2label = {\n",
        "    intent: label\n",
        "    for label, intent in enumerate(df_train['intent'].unique())\n",
        "}\n",
        "\n",
        "df_train['label'] = df_train['intent'].apply(lambda x: intent2label[x])\n",
        "df_test['label'] = df_test['intent'].apply(lambda x: intent2label[x])"
      ],
      "metadata": {
        "id": "sVzu6OSf4a3h"
      },
      "execution_count": null,
      "outputs": []
    },
    {
      "cell_type": "code",
      "source": [
        "df_train"
      ],
      "metadata": {
        "colab": {
          "base_uri": "https://localhost:8080/",
          "height": 424
        },
        "id": "B8Q5lg425GOb",
        "outputId": "26dc89be-0159-411d-add8-797dbd00306a"
      },
      "execution_count": null,
      "outputs": [
        {
          "output_type": "execute_result",
          "data": {
            "text/plain": [
              "                         text      intent  label\n",
              "0                       [yes]     yesNode      0\n",
              "1                       [yea]     yesNode      0\n",
              "2                        [ok]     yesNode      0\n",
              "3                   [oh, yes]     yesNode      0\n",
              "4                       [yea]     yesNode      0\n",
              "..                        ...         ...    ...\n",
              "984        [are, you, asleep]  stillThere     13\n",
              "985  [have, you, turned, off]  stillThere     13\n",
              "986      [have, you, stopped]  stillThere     13\n",
              "987          [did, you, stop]  stillThere     13\n",
              "988          [did, you, quit]  stillThere     13\n",
              "\n",
              "[989 rows x 3 columns]"
            ],
            "text/html": [
              "\n",
              "  <div id=\"df-c5fcdbb4-8235-4a94-869f-d770ed7437b3\">\n",
              "    <div class=\"colab-df-container\">\n",
              "      <div>\n",
              "<style scoped>\n",
              "    .dataframe tbody tr th:only-of-type {\n",
              "        vertical-align: middle;\n",
              "    }\n",
              "\n",
              "    .dataframe tbody tr th {\n",
              "        vertical-align: top;\n",
              "    }\n",
              "\n",
              "    .dataframe thead th {\n",
              "        text-align: right;\n",
              "    }\n",
              "</style>\n",
              "<table border=\"1\" class=\"dataframe\">\n",
              "  <thead>\n",
              "    <tr style=\"text-align: right;\">\n",
              "      <th></th>\n",
              "      <th>text</th>\n",
              "      <th>intent</th>\n",
              "      <th>label</th>\n",
              "    </tr>\n",
              "  </thead>\n",
              "  <tbody>\n",
              "    <tr>\n",
              "      <th>0</th>\n",
              "      <td>[yes]</td>\n",
              "      <td>yesNode</td>\n",
              "      <td>0</td>\n",
              "    </tr>\n",
              "    <tr>\n",
              "      <th>1</th>\n",
              "      <td>[yea]</td>\n",
              "      <td>yesNode</td>\n",
              "      <td>0</td>\n",
              "    </tr>\n",
              "    <tr>\n",
              "      <th>2</th>\n",
              "      <td>[ok]</td>\n",
              "      <td>yesNode</td>\n",
              "      <td>0</td>\n",
              "    </tr>\n",
              "    <tr>\n",
              "      <th>3</th>\n",
              "      <td>[oh, yes]</td>\n",
              "      <td>yesNode</td>\n",
              "      <td>0</td>\n",
              "    </tr>\n",
              "    <tr>\n",
              "      <th>4</th>\n",
              "      <td>[yea]</td>\n",
              "      <td>yesNode</td>\n",
              "      <td>0</td>\n",
              "    </tr>\n",
              "    <tr>\n",
              "      <th>...</th>\n",
              "      <td>...</td>\n",
              "      <td>...</td>\n",
              "      <td>...</td>\n",
              "    </tr>\n",
              "    <tr>\n",
              "      <th>984</th>\n",
              "      <td>[are, you, asleep]</td>\n",
              "      <td>stillThere</td>\n",
              "      <td>13</td>\n",
              "    </tr>\n",
              "    <tr>\n",
              "      <th>985</th>\n",
              "      <td>[have, you, turned, off]</td>\n",
              "      <td>stillThere</td>\n",
              "      <td>13</td>\n",
              "    </tr>\n",
              "    <tr>\n",
              "      <th>986</th>\n",
              "      <td>[have, you, stopped]</td>\n",
              "      <td>stillThere</td>\n",
              "      <td>13</td>\n",
              "    </tr>\n",
              "    <tr>\n",
              "      <th>987</th>\n",
              "      <td>[did, you, stop]</td>\n",
              "      <td>stillThere</td>\n",
              "      <td>13</td>\n",
              "    </tr>\n",
              "    <tr>\n",
              "      <th>988</th>\n",
              "      <td>[did, you, quit]</td>\n",
              "      <td>stillThere</td>\n",
              "      <td>13</td>\n",
              "    </tr>\n",
              "  </tbody>\n",
              "</table>\n",
              "<p>989 rows × 3 columns</p>\n",
              "</div>\n",
              "      <button class=\"colab-df-convert\" onclick=\"convertToInteractive('df-c5fcdbb4-8235-4a94-869f-d770ed7437b3')\"\n",
              "              title=\"Convert this dataframe to an interactive table.\"\n",
              "              style=\"display:none;\">\n",
              "        \n",
              "  <svg xmlns=\"http://www.w3.org/2000/svg\" height=\"24px\"viewBox=\"0 0 24 24\"\n",
              "       width=\"24px\">\n",
              "    <path d=\"M0 0h24v24H0V0z\" fill=\"none\"/>\n",
              "    <path d=\"M18.56 5.44l.94 2.06.94-2.06 2.06-.94-2.06-.94-.94-2.06-.94 2.06-2.06.94zm-11 1L8.5 8.5l.94-2.06 2.06-.94-2.06-.94L8.5 2.5l-.94 2.06-2.06.94zm10 10l.94 2.06.94-2.06 2.06-.94-2.06-.94-.94-2.06-.94 2.06-2.06.94z\"/><path d=\"M17.41 7.96l-1.37-1.37c-.4-.4-.92-.59-1.43-.59-.52 0-1.04.2-1.43.59L10.3 9.45l-7.72 7.72c-.78.78-.78 2.05 0 2.83L4 21.41c.39.39.9.59 1.41.59.51 0 1.02-.2 1.41-.59l7.78-7.78 2.81-2.81c.8-.78.8-2.07 0-2.86zM5.41 20L4 18.59l7.72-7.72 1.47 1.35L5.41 20z\"/>\n",
              "  </svg>\n",
              "      </button>\n",
              "      \n",
              "  <style>\n",
              "    .colab-df-container {\n",
              "      display:flex;\n",
              "      flex-wrap:wrap;\n",
              "      gap: 12px;\n",
              "    }\n",
              "\n",
              "    .colab-df-convert {\n",
              "      background-color: #E8F0FE;\n",
              "      border: none;\n",
              "      border-radius: 50%;\n",
              "      cursor: pointer;\n",
              "      display: none;\n",
              "      fill: #1967D2;\n",
              "      height: 32px;\n",
              "      padding: 0 0 0 0;\n",
              "      width: 32px;\n",
              "    }\n",
              "\n",
              "    .colab-df-convert:hover {\n",
              "      background-color: #E2EBFA;\n",
              "      box-shadow: 0px 1px 2px rgba(60, 64, 67, 0.3), 0px 1px 3px 1px rgba(60, 64, 67, 0.15);\n",
              "      fill: #174EA6;\n",
              "    }\n",
              "\n",
              "    [theme=dark] .colab-df-convert {\n",
              "      background-color: #3B4455;\n",
              "      fill: #D2E3FC;\n",
              "    }\n",
              "\n",
              "    [theme=dark] .colab-df-convert:hover {\n",
              "      background-color: #434B5C;\n",
              "      box-shadow: 0px 1px 3px 1px rgba(0, 0, 0, 0.15);\n",
              "      filter: drop-shadow(0px 1px 2px rgba(0, 0, 0, 0.3));\n",
              "      fill: #FFFFFF;\n",
              "    }\n",
              "  </style>\n",
              "\n",
              "      <script>\n",
              "        const buttonEl =\n",
              "          document.querySelector('#df-c5fcdbb4-8235-4a94-869f-d770ed7437b3 button.colab-df-convert');\n",
              "        buttonEl.style.display =\n",
              "          google.colab.kernel.accessAllowed ? 'block' : 'none';\n",
              "\n",
              "        async function convertToInteractive(key) {\n",
              "          const element = document.querySelector('#df-c5fcdbb4-8235-4a94-869f-d770ed7437b3');\n",
              "          const dataTable =\n",
              "            await google.colab.kernel.invokeFunction('convertToInteractive',\n",
              "                                                     [key], {});\n",
              "          if (!dataTable) return;\n",
              "\n",
              "          const docLinkHtml = 'Like what you see? Visit the ' +\n",
              "            '<a target=\"_blank\" href=https://colab.research.google.com/notebooks/data_table.ipynb>data table notebook</a>'\n",
              "            + ' to learn more about interactive tables.';\n",
              "          element.innerHTML = '';\n",
              "          dataTable['output_type'] = 'display_data';\n",
              "          await google.colab.output.renderOutput(dataTable, element);\n",
              "          const docLink = document.createElement('div');\n",
              "          docLink.innerHTML = docLinkHtml;\n",
              "          element.appendChild(docLink);\n",
              "        }\n",
              "      </script>\n",
              "    </div>\n",
              "  </div>\n",
              "  "
            ]
          },
          "metadata": {},
          "execution_count": 10
        }
      ]
    },
    {
      "cell_type": "code",
      "source": [
        "glove = GloVe(name='6B', dim=50)"
      ],
      "metadata": {
        "colab": {
          "base_uri": "https://localhost:8080/"
        },
        "id": "vXVUJjJT5IJx",
        "outputId": "00d9aa2f-b094-4976-bfe5-80a8d8ec4f71"
      },
      "execution_count": null,
      "outputs": [
        {
          "output_type": "stream",
          "name": "stderr",
          "text": [
            ".vector_cache/glove.6B.zip: 862MB [02:41, 5.35MB/s]                           \n",
            "100%|█████████▉| 399999/400000 [00:13<00:00, 28971.22it/s]\n"
          ]
        }
      ]
    },
    {
      "cell_type": "code",
      "source": [
        "class Dataset:\n",
        "  def __init__(self, df, max_length = MAX_LENGTH):\n",
        "    self.df = df\n",
        "    self.max_length = max_length\n",
        "  \n",
        "  def __len__(self):\n",
        "    return self.df.shape[0]\n",
        "  \n",
        "  def __getitem__(self, idx):\n",
        "    arr = self.df.loc[idx, 'text']\n",
        "    arr = arr + ['<PAD>'] * (self.max_length - len(arr))\n",
        "    return (\n",
        "        glove.get_vecs_by_tokens(arr),\n",
        "        self.df.loc[idx,'label']\n",
        "    )"
      ],
      "metadata": {
        "id": "O-a4XDhwZ9DC"
      },
      "execution_count": null,
      "outputs": []
    },
    {
      "cell_type": "code",
      "source": [
        "train_set = Dataset(df_train)\n",
        "test_set = Dataset(df_test)"
      ],
      "metadata": {
        "id": "KGnQ3ArN5WZ5"
      },
      "execution_count": null,
      "outputs": []
    },
    {
      "cell_type": "code",
      "source": [
        "BATCH_SIZE = 32\n",
        "train_loader = DataLoader(train_set, batch_size=BATCH_SIZE, shuffle = True)\n",
        "test_loader = DataLoader(test_set, batch_size=BATCH_SIZE, shuffle = False)"
      ],
      "metadata": {
        "id": "AtMW1-unbFXn"
      },
      "execution_count": null,
      "outputs": []
    },
    {
      "cell_type": "code",
      "source": [
        "class LSTM(nn.Module):\n",
        "  def __init__(self, embedding_dim, hidden_dim, output_dim, n_layers, bidirectional=True, dropout=0.2):\n",
        "    super().__init__()\n",
        "\n",
        "    self.lstm = nn.LSTM(embedding_dim,\n",
        "                        hidden_dim,\n",
        "                        num_layers = n_layers,\n",
        "                        bidirectional = bidirectional,\n",
        "                        dropout = dropout,\n",
        "                        batch_first = True\n",
        "                        )\n",
        "    \n",
        "    self.fc = nn.Linear(hidden_dim * 2, output_dim)\n",
        "\n",
        "  def forward(self, embeds):\n",
        "     packed_output, (hidden, cell) = self.lstm(embeds)\n",
        "\n",
        "     hidden = torch.cat((hidden[-2, :, :], hidden[-1,:,:]), dim=1)\n",
        "\n",
        "     dense_outputs = self.fc(hidden)\n",
        "\n",
        "     return dense_outputs"
      ],
      "metadata": {
        "id": "sseNISX_bXs4"
      },
      "execution_count": null,
      "outputs": []
    },
    {
      "cell_type": "code",
      "source": [
        "device = torch.device('cuda' if torch.cuda.is_available() else 'cpu')\n",
        "device"
      ],
      "metadata": {
        "colab": {
          "base_uri": "https://localhost:8080/"
        },
        "id": "LZaw9t9vdg2v",
        "outputId": "f72aa1a0-1c43-4d26-fd62-0c71d166c363"
      },
      "execution_count": null,
      "outputs": [
        {
          "output_type": "execute_result",
          "data": {
            "text/plain": [
              "device(type='cuda')"
            ]
          },
          "metadata": {},
          "execution_count": 52
        }
      ]
    },
    {
      "cell_type": "code",
      "source": [
        "model = LSTM(50, 32, len(intent2label), 2).to(device)"
      ],
      "metadata": {
        "id": "19h4gU6qdqno"
      },
      "execution_count": null,
      "outputs": []
    },
    {
      "cell_type": "code",
      "source": [
        "optim = torch.optim.Adam(model.parameters())\n",
        "loss_fn = nn.CrossEntropyLoss()"
      ],
      "metadata": {
        "id": "YAKn8Nlsd0Oh"
      },
      "execution_count": null,
      "outputs": []
    },
    {
      "cell_type": "code",
      "source": [
        "def training_loop(n_epochs, model, optim, loss_fn, train_loader, test_loader):\n",
        "  train_accuracy = torch.zeros(n_epochs)\n",
        "  test_accuracy = torch.zeros(n_epochs)\n",
        "\n",
        "  for epoch in range(n_epochs):\n",
        "    model.train()\n",
        "    for examples, labels in train_loader:\n",
        "      examples = examples.to(device)\n",
        "      labels = labels.to(device)\n",
        "\n",
        "      outputs = model(examples)\n",
        "      loss = loss_fn(outputs, labels)\n",
        "\n",
        "      optim.zero_grad()\n",
        "      loss.backward()\n",
        "      optim.step()\n",
        "\n",
        "\n",
        "    model.eval()\n",
        "    for loader, accuracy in [\n",
        "          (train_loader, train_accuracy),\n",
        "          (test_loader, test_accuracy)\n",
        "    ]:\n",
        "\n",
        "      correct = 0\n",
        "      total = 0\n",
        "\n",
        "      with torch.no_grad():\n",
        "        for examples, labels in loader:\n",
        "          examples = examples.to(device)\n",
        "          labels = labels.to(device)\n",
        "\n",
        "          outputs = model(examples)\n",
        "          _, predicted = torch.max(outputs, dim=1)\n",
        "\n",
        "          total += labels.shape[0]\n",
        "          correct += int((predicted == labels).sum())\n",
        "      \n",
        "      accuracy[epoch] = correct/total\n",
        "  \n",
        "    best_test_accuracy = (epoch == test_accuracy.max(dim=0)[1]).item()\n",
        "    if best_test_accuracy:\n",
        "      best_model = copy.deepcopy(model.state_dict())\n",
        "  \n",
        "\n",
        "    print(f'Epoch {epoch + 1}',\n",
        "          f'Train Accuracy: {train_accuracy[epoch]}',\n",
        "          f'Test Accuracy: {test_accuracy[epoch]}')\n",
        "\n",
        "  plt.figure(dpi = 150)\n",
        "  plt.xlabel('number of Epochs')\n",
        "  plt.ylabel('Accuracy')\n",
        "  plt.plot(range(1, n_epochs+1), train_accuracy)\n",
        "  plt.plot(range(1, n_epochs+1), test_accuracy)\n",
        "  plt.legend(['Train_accuracy', 'Test_accuracy'])\n",
        "  plt.grid()\n",
        "  plt.show()\n",
        "\n",
        "  return best_model"
      ],
      "metadata": {
        "id": "wEOSiQMdeBzx"
      },
      "execution_count": null,
      "outputs": []
    },
    {
      "cell_type": "code",
      "source": [
        "best_model = training_loop(50, model, optim, loss_fn, train_loader, test_loader)"
      ],
      "metadata": {
        "colab": {
          "base_uri": "https://localhost:8080/",
          "height": 1000
        },
        "id": "m_QahWleePzA",
        "outputId": "eb4dfd10-d3d6-4da5-ae35-20c9c71cdc30"
      },
      "execution_count": null,
      "outputs": [
        {
          "output_type": "stream",
          "name": "stdout",
          "text": [
            "Epoch 1 Train Accuracy: 0.4266936182975769 Test Accuracy: 0.4272727370262146\n",
            "Epoch 2 Train Accuracy: 0.4266936182975769 Test Accuracy: 0.4272727370262146\n",
            "Epoch 3 Train Accuracy: 0.5672396421432495 Test Accuracy: 0.5575757622718811\n",
            "Epoch 4 Train Accuracy: 0.6885743141174316 Test Accuracy: 0.6636363863945007\n",
            "Epoch 5 Train Accuracy: 0.7522750496864319 Test Accuracy: 0.7151514887809753\n",
            "Epoch 6 Train Accuracy: 0.7745197415351868 Test Accuracy: 0.739393949508667\n",
            "Epoch 7 Train Accuracy: 0.7846309542655945 Test Accuracy: 0.7424242496490479\n",
            "Epoch 8 Train Accuracy: 0.8038422465324402 Test Accuracy: 0.7696969509124756\n",
            "Epoch 9 Train Accuracy: 0.8382204174995422 Test Accuracy: 0.7848485112190247\n",
            "Epoch 10 Train Accuracy: 0.8382204174995422 Test Accuracy: 0.7969697117805481\n",
            "Epoch 11 Train Accuracy: 0.8452982902526855 Test Accuracy: 0.800000011920929\n",
            "Epoch 12 Train Accuracy: 0.8614762425422668 Test Accuracy: 0.821212112903595\n",
            "Epoch 13 Train Accuracy: 0.8796764612197876 Test Accuracy: 0.821212112903595\n",
            "Epoch 14 Train Accuracy: 0.8665318489074707 Test Accuracy: 0.821212112903595\n",
            "Epoch 15 Train Accuracy: 0.9241658449172974 Test Accuracy: 0.8606060743331909\n",
            "Epoch 16 Train Accuracy: 0.926188051700592 Test Accuracy: 0.8606060743331909\n",
            "Epoch 17 Train Accuracy: 0.930232584476471 Test Accuracy: 0.8696969747543335\n",
            "Epoch 18 Train Accuracy: 0.9433771371841431 Test Accuracy: 0.8878787755966187\n",
            "Epoch 19 Train Accuracy: 0.8988877534866333 Test Accuracy: 0.8484848737716675\n",
            "Epoch 20 Train Accuracy: 0.9615773558616638 Test Accuracy: 0.8909090757369995\n",
            "Epoch 21 Train Accuracy: 0.9504550099372864 Test Accuracy: 0.8818181753158569\n",
            "Epoch 22 Train Accuracy: 0.9595550894737244 Test Accuracy: 0.8999999761581421\n",
            "Epoch 23 Train Accuracy: 0.9635996222496033 Test Accuracy: 0.8999999761581421\n",
            "Epoch 24 Train Accuracy: 0.9615773558616638 Test Accuracy: 0.8969696760177612\n",
            "Epoch 25 Train Accuracy: 0.9666329622268677 Test Accuracy: 0.9060605764389038\n",
            "Epoch 26 Train Accuracy: 0.9585439562797546 Test Accuracy: 0.8999999761581421\n",
            "Epoch 27 Train Accuracy: 0.9807886481285095 Test Accuracy: 0.9121212363243103\n",
            "Epoch 28 Train Accuracy: 0.9787664413452148 Test Accuracy: 0.9121212363243103\n",
            "Epoch 29 Train Accuracy: 0.9757330417633057 Test Accuracy: 0.9151515364646912\n",
            "Epoch 30 Train Accuracy: 0.9797775745391846 Test Accuracy: 0.9242424368858337\n",
            "Epoch 31 Train Accuracy: 0.9848331809043884 Test Accuracy: 0.9212121367454529\n",
            "Epoch 32 Train Accuracy: 0.991910994052887 Test Accuracy: 0.9212121367454529\n",
            "Epoch 33 Train Accuracy: 0.990899920463562 Test Accuracy: 0.918181836605072\n",
            "Epoch 34 Train Accuracy: 0.9929221272468567 Test Accuracy: 0.9212121367454529\n",
            "Epoch 35 Train Accuracy: 0.9898887872695923 Test Accuracy: 0.9090909361839294\n",
            "Epoch 36 Train Accuracy: 0.9807886481285095 Test Accuracy: 0.9121212363243103\n",
            "Epoch 37 Train Accuracy: 0.9888776540756226 Test Accuracy: 0.9090909361839294\n",
            "Epoch 38 Train Accuracy: 0.9939332604408264 Test Accuracy: 0.9151515364646912\n",
            "Epoch 39 Train Accuracy: 0.9939332604408264 Test Accuracy: 0.9212121367454529\n",
            "Epoch 40 Train Accuracy: 0.9959555268287659 Test Accuracy: 0.918181836605072\n",
            "Epoch 41 Train Accuracy: 0.9969666600227356 Test Accuracy: 0.918181836605072\n",
            "Epoch 42 Train Accuracy: 0.9969666600227356 Test Accuracy: 0.9242424368858337\n",
            "Epoch 43 Train Accuracy: 0.9959555268287659 Test Accuracy: 0.9212121367454529\n",
            "Epoch 44 Train Accuracy: 0.9888776540756226 Test Accuracy: 0.9242424368858337\n",
            "Epoch 45 Train Accuracy: 0.9959555268287659 Test Accuracy: 0.9272727370262146\n",
            "Epoch 46 Train Accuracy: 0.9939332604408264 Test Accuracy: 0.9242424368858337\n",
            "Epoch 47 Train Accuracy: 0.9949443936347961 Test Accuracy: 0.9060605764389038\n",
            "Epoch 48 Train Accuracy: 0.9969666600227356 Test Accuracy: 0.918181836605072\n",
            "Epoch 49 Train Accuracy: 0.9979777336120605 Test Accuracy: 0.9303030371665955\n",
            "Epoch 50 Train Accuracy: 0.9787664413452148 Test Accuracy: 0.8878787755966187\n"
          ]
        },
        {
          "output_type": "display_data",
          "data": {
            "text/plain": [
              "<Figure size 900x600 with 1 Axes>"
            ],
            "image/png": "[encoded data removed]"
          },
          "metadata": {
            "needs_background": "light"
          }
        }
      ]
    },
    {
      "cell_type": "code",
      "source": [
        "model.load_state_dict(best_model)"
      ],
      "metadata": {
        "colab": {
          "base_uri": "https://localhost:8080/"
        },
        "id": "Olw_9urEegOv",
        "outputId": "60457048-02f2-41c3-f8f3-c37ca5604861"
      },
      "execution_count": null,
      "outputs": [
        {
          "output_type": "execute_result",
          "data": {
            "text/plain": [
              "<All keys matched successfully>"
            ]
          },
          "metadata": {},
          "execution_count": 57
        }
      ]
    },
    {
      "cell_type": "code",
      "source": [
        "correct = 0\n",
        "total = 0\n",
        "\n",
        "y_test = torch.zeros(len(df_test))\n",
        "y_pred = torch.zeros(len(df_test))\n",
        "low = 0\n",
        "\n",
        "model.eval()\n",
        "with torch.no_grad():\n",
        "  for examples, labels in test_loader:\n",
        "    examples = examples.to(device)\n",
        "    labels = labels.to(device)\n",
        "\n",
        "    outputs = model(examples)\n",
        "    _, predicted = torch.max(outputs, dim=1)\n",
        "\n",
        "    high = low + labels.shape[0]\n",
        "    y_test[low : high] = labels\n",
        "    y_pred[low : high] = predicted\n",
        "    low = high\n",
        "\n",
        "    total += labels.shape[0]\n",
        "    correct += int((predicted == labels).sum())\n",
        "\n",
        "accuracy = correct / total\n",
        "accuracy"
      ],
      "metadata": {
        "colab": {
          "base_uri": "https://localhost:8080/"
        },
        "id": "jlr-uyy6fLhY",
        "outputId": "53820271-0c34-4fef-b889-3587b1af7b4d"
      },
      "execution_count": null,
      "outputs": [
        {
          "output_type": "execute_result",
          "data": {
            "text/plain": [
              "0.9303030303030303"
            ]
          },
          "metadata": {},
          "execution_count": 58
        }
      ]
    },
    {
      "cell_type": "code",
      "source": [
        "plt.figure(dpi = 150)\n",
        "sns.heatmap(confusion_matrix(y_test, y_pred), annot=True, fmt='d')\n",
        "plt.ylabel('True Label')\n",
        "plt.xlabel('Predicted Label')"
      ],
      "metadata": {
        "colab": {
          "base_uri": "https://localhost:8080/",
          "height": 579
        },
        "id": "aZxZyXYTgbEp",
        "outputId": "45cfbdea-9d96-41ae-d4a9-25d5c0fb7f70"
      },
      "execution_count": null,
      "outputs": [
        {
          "output_type": "execute_result",
          "data": {
            "text/plain": [
              "Text(0.5, 32.08333333333333, 'Predicted Label')"
            ]
          },
          "metadata": {},
          "execution_count": 59
        },
        {
          "output_type": "display_data",
          "data": {
            "text/plain": [
              "<Figure size 900x600 with 2 Axes>"
            ],
            "image/png": "[encoded data removed]"
          },
          "metadata": {
            "needs_background": "light"
          }
        }
      ]
    },
    {
      "cell_type": "code",
      "source": [
        "intent2label"
      ],
      "metadata": {
        "colab": {
          "base_uri": "https://localhost:8080/"
        },
        "id": "ptq0yV6bg1Zh",
        "outputId": "0432293d-44e9-4243-dc41-d27468c08f68"
      },
      "execution_count": null,
      "outputs": [
        {
          "output_type": "execute_result",
          "data": {
            "text/plain": [
              "{'Repeat': 4,\n",
              " 'gamesCounter': 9,\n",
              " 'listOfGames': 8,\n",
              " 'maybeNode': 2,\n",
              " 'noNode': 1,\n",
              " 'playOtherGame': 5,\n",
              " 'stillThere': 13,\n",
              " 'stop': 3,\n",
              " 'timesPlayed': 12,\n",
              " 'totalStop': 6,\n",
              " 'volumeDown': 11,\n",
              " 'volumeUp': 10,\n",
              " 'wait': 7,\n",
              " 'yesNode': 0}"
            ]
          },
          "metadata": {},
          "execution_count": 49
        }
      ]
    }
  ]
}